{
 "cells": [
  {
   "cell_type": "code",
   "execution_count": null,
   "id": "af6032af",
   "metadata": {},
   "outputs": [],
   "source": [
    "# Step 1 \n",
    "adlsAccountName = 'name of storage account'\n",
    "adlsContainerName = 'name of container'\n",
    "adlsFolderName = 'name of the folder inside container which stores .csv files'\n",
    "mountPoint = '/mnt/Files/Validated'"
   ]
  },
  {
   "cell_type": "code",
   "execution_count": null,
   "id": "f0304dc7",
   "metadata": {},
   "outputs": [],
   "source": [
    "# Step 2\n",
    "# Retrieve the Service Principal secrets for the ADLS account from Databricks Secrets.\n",
    "# App Client ID\n",
    "applicationId = dbutils.secrets.get(scope=\"Your scope name\", key=\"clientid\")\n",
    "# App Client Secret Key\n",
    "authenticationKey = dbutils.secrets.get(scope=\"Your scope name\", key=\"clientsecret\")\n",
    "# Directory (Tenant) ID\n",
    "tenantID = dbutils.secrets.get(scope=\"Your scope name\", key=\"tenantid\")\n",
    "endpoint= \"https://login.microsoftonline.com/\"+tenandId+\"/oauth2/token\"\n",
    "source= \"abfss://\"+adlsContainerName+\"@\"+adlsAccountName+\".dfs.core.windows.net/\"+adlsFolderName\n",
    "# Connecting using Service Principal secrets and OAuth\n",
    "# Set the configuration properties for the mount, authentication type, provider type, client ID, client secret, and OAuth endpoint URL.\n",
    "configs={\"fs.azure.account.auth.type\": \"OAuth\",\n",
    "         \"fs.azure.account.oauth.provider.type\": \"org.apache.hadoop.fs.azurebfs.oauth2.ClientCredsTokenProvider\",\n",
    "         \"fs.azure.account.oauth2.client.id\": applicationId,\n",
    "         \"fs.azure.account.oauth2.client.secret\": authenticationkey,\n",
    "         \"fs.azure.account.oauth2.client.endpoint\": endpoint}\n",
    "# Mounting ADLS Storage to DBFS\n",
    "# Mount only if the directory is not already mounted\n",
    "if not any (mount.mountPoint==mountPoint for mount in dbutils.fs.mounts()): \n",
    "    dbutils.fs.mount(\n",
    "    source=source,\n",
    "    mount_point-mountPoint,\n",
    "    extra_configs=configs)"
   ]
  },
  {
   "cell_type": "code",
   "execution_count": null,
   "id": "ab34192b",
   "metadata": {},
   "outputs": [],
   "source": [
    "# Step 3\n",
    "# List the files and directories located in the Validated folder within the Files directory in DBFS (Databricks File System)\n",
    "%fs\n",
    "ls dbfs:/mnt/Files/Validated/"
   ]
  }
 ],
 "metadata": {
  "kernelspec": {
   "display_name": "Python 3 (ipykernel)",
   "language": "python",
   "name": "python3"
  },
  "language_info": {
   "codemirror_mode": {
    "name": "ipython",
    "version": 3
   },
   "file_extension": ".py",
   "mimetype": "text/x-python",
   "name": "python",
   "nbconvert_exporter": "python",
   "pygments_lexer": "ipython3",
   "version": "3.10.9"
  }
 },
 "nbformat": 4,
 "nbformat_minor": 5
}
